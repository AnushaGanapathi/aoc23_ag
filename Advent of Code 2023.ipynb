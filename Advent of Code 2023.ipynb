{
 "cells": [
  {
   "cell_type": "markdown",
   "id": "5741ecb8",
   "metadata": {
    "heading_collapsed": true
   },
   "source": [
    "## Completed"
   ]
  },
  {
   "cell_type": "markdown",
   "id": "227ea941",
   "metadata": {
    "heading_collapsed": true,
    "hidden": true
   },
   "source": [
    "### Day 1"
   ]
  },
  {
   "cell_type": "markdown",
   "id": "fe8323a0",
   "metadata": {
    "heading_collapsed": true,
    "hidden": true
   },
   "source": [
    "#### Part 1"
   ]
  },
  {
   "cell_type": "code",
   "execution_count": 1,
   "id": "95eb450b",
   "metadata": {
    "hidden": true
   },
   "outputs": [
    {
     "data": {
      "text/plain": [
       "54968"
      ]
     },
     "execution_count": 1,
     "metadata": {},
     "output_type": "execute_result"
    }
   ],
   "source": [
    "import re\n",
    "total =0\n",
    "for line in open('inputday1.txt', 'r'):\n",
    "    nums = re.findall(r'[0-9]{1}', line)\n",
    "    total += (int(nums[0] + nums[len(nums)-1]))\n",
    "total"
   ]
  },
  {
   "cell_type": "markdown",
   "id": "f5ba428e",
   "metadata": {
    "heading_collapsed": true,
    "hidden": true
   },
   "source": [
    "#### Part 2 (WIP)"
   ]
  },
  {
   "cell_type": "code",
   "execution_count": 36,
   "id": "cf14312d",
   "metadata": {
    "hidden": true
   },
   "outputs": [],
   "source": [
    "#textlist\n",
    "num_dict = {1: ('1','one'), 2:('2','two'), 3:('3','three'), 4: ('4','four'), 5: ('5','five'), 6: ('6','six'), 7:('7','seven'),\n",
    "           8:('8','eight'), 9:('nine',9), 0:('0','zero')}\n",
    "numstring = ['one','two','three','four','five','six','seven', 'eight', 'nine', 'zero','1','2','3','4','5','6','7','8','9','0']"
   ]
  },
  {
   "cell_type": "code",
   "execution_count": 3,
   "id": "dcb92411",
   "metadata": {
    "hidden": true
   },
   "outputs": [],
   "source": [
    "strlist =[]\n",
    "for line in open('inputday1.txt', 'r'):\n",
    "    wordlist = line.split()\n",
    "    strlist.append(wordlist[0])"
   ]
  },
  {
   "cell_type": "code",
   "execution_count": 5,
   "id": "10a80e69",
   "metadata": {
    "hidden": true
   },
   "outputs": [],
   "source": [
    "test = strlist[0:3]"
   ]
  },
  {
   "cell_type": "code",
   "execution_count": 20,
   "id": "e8d3c713",
   "metadata": {
    "hidden": true
   },
   "outputs": [],
   "source": [
    "num_list = []\n",
    "for i in range(0, len(test)):\n",
    "    num_list.append([])\n",
    "    for j in numstring:\n",
    "        if j in test[i]:\n",
    "            num_list[i].append(j)"
   ]
  },
  {
   "cell_type": "code",
   "execution_count": 49,
   "id": "3d1ea566",
   "metadata": {
    "hidden": true
   },
   "outputs": [
    {
     "data": {
      "text/plain": [
       "[['one', 'five', '3'],\n",
       " ['two', 'seven', 'eight', 'nine', '1'],\n",
       " ['two', '1', '3', '8', '9']]"
      ]
     },
     "execution_count": 49,
     "metadata": {},
     "output_type": "execute_result"
    }
   ],
   "source": [
    "num_list"
   ]
  },
  {
   "cell_type": "markdown",
   "id": "dacec783",
   "metadata": {
    "heading_collapsed": true,
    "hidden": true
   },
   "source": [
    "### Day 2 (WIP)"
   ]
  },
  {
   "cell_type": "markdown",
   "id": "31b0f22a",
   "metadata": {
    "hidden": true
   },
   "source": [
    "#### Part 1"
   ]
  },
  {
   "cell_type": "code",
   "execution_count": null,
   "id": "90941e4e",
   "metadata": {
    "hidden": true
   },
   "outputs": [],
   "source": [
    "# 12 red cubes\n",
    "# 13 green cubes\n",
    "# 14 blue cubes"
   ]
  },
  {
   "cell_type": "code",
   "execution_count": 64,
   "id": "f8afd13a",
   "metadata": {
    "hidden": true
   },
   "outputs": [],
   "source": [
    "d = {}\n",
    "with open(\"inputday2.txt\") as f:\n",
    "    for line in f:\n",
    "        (key, val) = line.replace(\"\\n\", \"\").split(\": \")\n",
    "        d[(key)] = val.split(\"; \")"
   ]
  },
  {
   "cell_type": "code",
   "execution_count": 65,
   "id": "5b7021bc",
   "metadata": {
    "hidden": true
   },
   "outputs": [
    {
     "data": {
      "text/plain": [
       "{'Game 1': ['18 red, 8 green, 7 blue',\n",
       "  '15 red, 4 blue, 1 green',\n",
       "  '2 green, 17 red, 6 blue',\n",
       "  '5 green, 1 blue, 11 red',\n",
       "  '18 red, 1 green, 14 blue',\n",
       "  '8 blue'],\n",
       " 'Game 2': ['16 blue, 12 green, 3 red',\n",
       "  '13 blue, 2 red, 8 green',\n",
       "  '15 green, 3 red, 16 blue'],\n",
       " 'Game 3': ['6 green, 15 red',\n",
       "  '1 green, 4 red, 7 blue',\n",
       "  '9 blue, 7 red, 8 green'],\n",
       " 'Game 4': ['8 red, 2 blue',\n",
       "  '11 red, 5 blue, 1 green',\n",
       "  '12 red, 1 green, 5 blue',\n",
       "  '1 blue',\n",
       "  '2 blue, 9 red'],\n",
       " 'Game 5': ['9 blue, 3 red, 12 green',\n",
       "  '3 green, 4 red, 17 blue',\n",
       "  '15 blue, 2 green, 5 red',\n",
       "  '3 blue, 5 green, 6 red',\n",
       "  '6 red, 4 blue, 7 green',\n",
       "  '3 green, 10 blue'],\n",
       " 'Game 6': ['11 red, 2 blue, 6 green',\n",
       "  '2 blue, 9 red, 4 green',\n",
       "  '3 blue, 12 red, 8 green',\n",
       "  '5 red, 11 green, 4 blue',\n",
       "  '2 blue, 9 red, 13 green',\n",
       "  '15 red, 3 blue, 7 green'],\n",
       " 'Game 7': ['2 red, 9 green, 12 blue',\n",
       "  '14 blue, 1 green, 6 red',\n",
       "  '7 blue, 9 green',\n",
       "  '9 green, 8 red, 4 blue',\n",
       "  '5 red, 3 green, 16 blue',\n",
       "  '4 red, 8 green'],\n",
       " 'Game 8': ['11 red, 12 green, 1 blue',\n",
       "  '4 red, 7 green',\n",
       "  '11 red, 6 green',\n",
       "  '17 green',\n",
       "  '15 green, 1 red'],\n",
       " 'Game 9': ['1 red, 1 green, 12 blue',\n",
       "  '3 green, 12 red, 6 blue',\n",
       "  '14 red, 1 blue',\n",
       "  '9 blue, 1 red, 3 green'],\n",
       " 'Game 10': ['1 red, 4 blue',\n",
       "  '3 blue, 4 green',\n",
       "  '3 green, 3 red, 8 blue',\n",
       "  '2 blue, 3 red',\n",
       "  '3 green, 4 red, 3 blue'],\n",
       " 'Game 11': ['8 blue, 1 red',\n",
       "  '8 green, 1 red, 1 blue',\n",
       "  '13 green, 9 red, 6 blue'],\n",
       " 'Game 12': ['2 red, 2 blue, 1 green', '3 red, 1 green', '1 blue, 3 green'],\n",
       " 'Game 13': ['12 green, 4 blue',\n",
       "  '2 red, 2 blue, 8 green',\n",
       "  '6 green, 3 red',\n",
       "  '3 red, 5 green',\n",
       "  '9 green, 7 blue, 1 red'],\n",
       " 'Game 14': ['1 red, 7 green',\n",
       "  '5 green, 12 red, 10 blue',\n",
       "  '9 red, 11 blue, 7 green',\n",
       "  '7 blue, 3 red, 9 green'],\n",
       " 'Game 15': ['7 green, 1 blue', '1 red, 2 green, 1 blue', '7 green'],\n",
       " 'Game 16': ['1 green, 1 blue', '2 blue, 4 green, 2 red', '2 green, 2 blue'],\n",
       " 'Game 17': ['6 red, 11 green, 7 blue',\n",
       "  '1 blue, 13 green, 4 red',\n",
       "  '4 green, 6 blue, 7 red'],\n",
       " 'Game 18': ['2 red, 8 blue',\n",
       "  '7 red, 11 blue',\n",
       "  '1 green, 16 blue, 7 red',\n",
       "  '18 blue, 1 green, 14 red'],\n",
       " 'Game 19': ['2 red, 2 blue', '1 green, 6 red', '1 green, 3 red, 2 blue'],\n",
       " 'Game 20': ['6 red, 2 blue, 5 green',\n",
       "  '4 red, 1 blue, 9 green',\n",
       "  '3 blue, 2 red, 9 green',\n",
       "  '8 red, 12 green, 5 blue'],\n",
       " 'Game 21': ['6 red, 7 blue',\n",
       "  '3 blue, 16 red, 2 green',\n",
       "  '2 blue, 13 red',\n",
       "  '3 blue, 11 red, 3 green',\n",
       "  '1 green, 18 red, 6 blue',\n",
       "  '12 red, 5 blue, 2 green'],\n",
       " 'Game 22': ['9 red, 6 blue, 14 green',\n",
       "  '1 blue, 5 green, 13 red',\n",
       "  '6 red',\n",
       "  '18 red, 4 green',\n",
       "  '2 blue, 10 green, 16 red',\n",
       "  '1 red, 18 green, 1 blue'],\n",
       " 'Game 23': ['6 green, 4 red, 3 blue',\n",
       "  '1 blue, 2 red, 9 green',\n",
       "  '5 green, 1 red, 3 blue',\n",
       "  '5 blue, 4 red, 4 green'],\n",
       " 'Game 24': ['1 red, 5 green, 2 blue',\n",
       "  '4 red, 7 green, 9 blue',\n",
       "  '9 blue, 7 green',\n",
       "  '7 green, 13 blue',\n",
       "  '4 blue, 1 green, 4 red'],\n",
       " 'Game 25': ['13 blue, 10 red, 11 green',\n",
       "  '10 green, 1 blue, 3 red',\n",
       "  '15 red, 5 green, 8 blue',\n",
       "  '19 red, 10 green, 13 blue',\n",
       "  '12 blue, 4 green, 16 red',\n",
       "  '7 red, 5 green, 9 blue'],\n",
       " 'Game 26': ['20 red, 6 blue, 12 green',\n",
       "  '15 blue, 17 red, 9 green',\n",
       "  '19 red, 6 green, 3 blue',\n",
       "  '8 green, 1 red, 15 blue',\n",
       "  '10 green, 8 red, 5 blue',\n",
       "  '4 green, 20 red, 18 blue'],\n",
       " 'Game 27': ['2 blue, 3 green, 7 red',\n",
       "  '2 blue, 4 red',\n",
       "  '5 blue, 5 green',\n",
       "  '8 blue, 6 green, 2 red'],\n",
       " 'Game 28': ['1 green, 6 red',\n",
       "  '3 red, 3 blue',\n",
       "  '1 green, 4 red',\n",
       "  '1 red, 2 blue',\n",
       "  '2 red'],\n",
       " 'Game 29': ['8 blue, 1 green',\n",
       "  '7 blue, 1 red',\n",
       "  '6 red, 2 blue',\n",
       "  '2 red, 3 green',\n",
       "  '3 red, 6 green, 5 blue'],\n",
       " 'Game 30': ['11 blue, 17 green, 10 red',\n",
       "  '9 blue, 12 green, 14 red',\n",
       "  '16 green, 2 red, 8 blue',\n",
       "  '18 green, 1 red, 1 blue',\n",
       "  '5 blue, 7 red, 18 green',\n",
       "  '9 green, 3 blue, 11 red'],\n",
       " 'Game 31': ['5 blue, 13 green',\n",
       "  '2 green, 3 red, 4 blue',\n",
       "  '3 red, 15 green, 2 blue',\n",
       "  '5 blue, 19 green',\n",
       "  '5 blue, 18 green',\n",
       "  '3 green, 7 blue, 3 red'],\n",
       " 'Game 32': ['12 red, 2 green, 3 blue',\n",
       "  '2 green, 16 red, 1 blue',\n",
       "  '13 red, 4 green, 6 blue'],\n",
       " 'Game 33': ['18 green, 8 blue, 3 red',\n",
       "  '15 green, 2 blue, 4 red',\n",
       "  '14 blue, 3 red, 6 green',\n",
       "  '20 green, 13 blue',\n",
       "  '1 red, 19 green'],\n",
       " 'Game 34': ['1 green, 7 blue, 2 red',\n",
       "  '8 green, 10 blue, 2 red',\n",
       "  '3 blue, 1 green, 1 red',\n",
       "  '6 green, 13 blue, 1 red',\n",
       "  '1 green, 4 blue, 2 red',\n",
       "  '1 red, 5 green, 7 blue'],\n",
       " 'Game 35': ['7 blue, 8 red',\n",
       "  '2 blue, 3 red',\n",
       "  '4 blue, 3 red',\n",
       "  '7 red, 4 blue',\n",
       "  '1 blue, 1 green, 3 red'],\n",
       " 'Game 36': ['1 red, 8 green',\n",
       "  '1 red, 6 green',\n",
       "  '3 green, 8 red',\n",
       "  '1 blue, 2 red, 1 green'],\n",
       " 'Game 37': ['3 blue, 13 red',\n",
       "  '2 blue, 7 red',\n",
       "  '5 red, 1 green',\n",
       "  '3 red, 3 blue',\n",
       "  '1 blue, 12 red, 1 green',\n",
       "  '14 red, 3 blue'],\n",
       " 'Game 38': ['7 blue, 18 red, 12 green',\n",
       "  '11 red, 6 green, 1 blue',\n",
       "  '9 green, 1 red',\n",
       "  '9 green, 13 blue, 16 red'],\n",
       " 'Game 39': ['12 red, 3 green, 2 blue',\n",
       "  '3 blue, 3 green, 10 red',\n",
       "  '2 blue, 5 red',\n",
       "  '2 blue, 1 green',\n",
       "  '5 blue, 4 green, 7 red',\n",
       "  '2 green, 1 red'],\n",
       " 'Game 40': ['1 red, 7 blue, 5 green',\n",
       "  '1 red, 4 blue, 8 green',\n",
       "  '3 red, 5 blue, 14 green',\n",
       "  '10 green, 2 blue, 1 red',\n",
       "  '11 blue, 7 green, 1 red',\n",
       "  '14 green, 2 blue'],\n",
       " 'Game 41': ['8 green, 5 red, 3 blue',\n",
       "  '5 red, 4 blue, 12 green',\n",
       "  '10 green, 6 blue',\n",
       "  '13 green, 7 blue',\n",
       "  '1 red, 2 green, 15 blue'],\n",
       " 'Game 42': ['17 red, 1 blue, 5 green',\n",
       "  '9 green, 16 red',\n",
       "  '1 blue, 15 green, 2 red',\n",
       "  '1 blue, 12 red, 12 green'],\n",
       " 'Game 43': ['12 green, 5 blue',\n",
       "  '3 red, 8 blue, 10 green',\n",
       "  '8 blue, 2 green, 1 red'],\n",
       " 'Game 44': ['1 green, 7 red, 2 blue',\n",
       "  '1 blue, 10 red',\n",
       "  '4 green, 3 blue, 19 red',\n",
       "  '1 blue, 3 green, 1 red',\n",
       "  '1 blue',\n",
       "  '4 red, 2 green, 3 blue'],\n",
       " 'Game 45': ['16 red, 12 blue, 1 green',\n",
       "  '13 blue, 16 red, 9 green',\n",
       "  '7 green, 3 red, 8 blue'],\n",
       " 'Game 46': ['1 red, 17 green, 6 blue',\n",
       "  '6 blue, 1 red, 3 green',\n",
       "  '12 green, 1 blue',\n",
       "  '4 blue, 2 green'],\n",
       " 'Game 47': ['2 green, 12 red, 15 blue',\n",
       "  '9 blue, 2 green, 2 red',\n",
       "  '3 green, 6 blue, 2 red',\n",
       "  '11 blue, 3 green, 5 red',\n",
       "  '6 green, 9 red, 17 blue'],\n",
       " 'Game 48': ['5 blue, 6 red',\n",
       "  '7 green, 14 red, 4 blue',\n",
       "  '2 green, 5 blue, 2 red',\n",
       "  '11 blue, 5 red, 5 green'],\n",
       " 'Game 49': ['7 green, 7 blue, 4 red',\n",
       "  '11 green, 12 blue, 2 red',\n",
       "  '12 blue, 4 red, 9 green',\n",
       "  '3 red, 8 blue, 17 green',\n",
       "  '16 green, 3 red, 14 blue'],\n",
       " 'Game 50': ['5 green, 4 red, 10 blue',\n",
       "  '7 green, 14 red, 5 blue',\n",
       "  '12 red, 18 blue, 14 green'],\n",
       " 'Game 51': ['12 green, 3 blue', '10 green, 4 blue, 2 red', '3 green, 5 blue'],\n",
       " 'Game 52': ['12 green, 6 red, 7 blue',\n",
       "  '20 green, 6 red, 18 blue',\n",
       "  '1 green, 5 blue, 11 red',\n",
       "  '2 green, 15 blue, 6 red'],\n",
       " 'Game 53': ['6 red, 2 green, 5 blue',\n",
       "  '13 green, 1 blue, 14 red',\n",
       "  '7 green, 1 blue',\n",
       "  '3 green, 4 blue, 6 red',\n",
       "  '10 red, 6 green, 4 blue'],\n",
       " 'Game 54': ['4 blue, 1 red',\n",
       "  '1 red, 1 blue, 9 green',\n",
       "  '3 red, 2 blue, 4 green',\n",
       "  '3 green, 2 red, 5 blue',\n",
       "  '9 blue, 2 red, 7 green'],\n",
       " 'Game 55': ['7 blue',\n",
       "  '6 blue, 1 red',\n",
       "  '4 red, 7 blue',\n",
       "  '3 red, 3 blue, 1 green'],\n",
       " 'Game 56': ['2 green, 7 blue',\n",
       "  '3 red, 10 blue',\n",
       "  '1 green, 2 red',\n",
       "  '3 red, 8 blue, 4 green',\n",
       "  '1 green, 11 blue, 3 red',\n",
       "  '2 green, 8 blue'],\n",
       " 'Game 57': ['3 red, 1 green',\n",
       "  '1 green, 1 red, 1 blue',\n",
       "  '1 red, 4 green, 15 blue',\n",
       "  '9 blue, 2 red, 1 green'],\n",
       " 'Game 58': ['12 blue, 13 red, 5 green',\n",
       "  '2 blue, 6 green',\n",
       "  '12 red, 15 green, 7 blue',\n",
       "  '5 red, 4 green, 14 blue',\n",
       "  '15 red, 2 green, 9 blue'],\n",
       " 'Game 59': ['5 green, 5 blue',\n",
       "  '4 red, 6 blue, 2 green',\n",
       "  '5 blue, 3 green, 6 red',\n",
       "  '3 red, 6 green, 4 blue',\n",
       "  '3 blue, 7 green, 10 red'],\n",
       " 'Game 60': ['1 red, 1 blue, 3 green', '1 red', '3 green, 6 blue', '6 blue'],\n",
       " 'Game 61': ['7 green, 1 red, 1 blue',\n",
       "  '4 red, 3 green, 1 blue',\n",
       "  '7 blue, 7 green',\n",
       "  '11 blue, 2 green, 5 red',\n",
       "  '5 red, 4 green, 5 blue'],\n",
       " 'Game 62': ['17 green, 2 red, 3 blue',\n",
       "  '1 red, 3 blue, 2 green',\n",
       "  '1 green, 3 blue, 2 red',\n",
       "  '1 red, 17 green',\n",
       "  '2 red, 15 green, 4 blue',\n",
       "  '5 green'],\n",
       " 'Game 63': ['2 green, 4 red, 3 blue',\n",
       "  '9 blue, 10 red',\n",
       "  '1 green, 13 blue, 2 red',\n",
       "  '2 green, 1 blue, 5 red'],\n",
       " 'Game 64': ['6 red, 8 blue',\n",
       "  '3 red, 6 blue, 5 green',\n",
       "  '13 red, 11 blue, 8 green',\n",
       "  '11 red, 3 blue, 1 green'],\n",
       " 'Game 65': ['4 green, 1 blue, 2 red',\n",
       "  '3 blue, 3 green, 11 red',\n",
       "  '6 green, 3 blue, 3 red',\n",
       "  '5 red, 4 blue',\n",
       "  '8 red, 5 blue, 2 green'],\n",
       " 'Game 66': ['10 green, 13 red',\n",
       "  '1 blue, 2 red, 4 green',\n",
       "  '7 red, 7 green',\n",
       "  '19 green, 9 red, 1 blue',\n",
       "  '16 green, 16 red, 2 blue',\n",
       "  '10 red, 11 green'],\n",
       " 'Game 67': ['3 blue, 4 green, 2 red',\n",
       "  '6 blue, 19 red',\n",
       "  '4 blue, 2 red, 5 green',\n",
       "  '4 green, 5 blue, 1 red'],\n",
       " 'Game 68': ['13 blue, 15 red, 7 green',\n",
       "  '5 blue, 20 red',\n",
       "  '6 green, 12 blue, 8 red',\n",
       "  '5 blue, 8 green'],\n",
       " 'Game 69': ['13 red, 13 green',\n",
       "  '13 green, 3 red, 1 blue',\n",
       "  '8 green',\n",
       "  '9 green, 9 red'],\n",
       " 'Game 70': ['8 blue, 11 red, 2 green',\n",
       "  '12 red, 2 blue',\n",
       "  '13 red, 6 blue, 3 green',\n",
       "  '7 blue, 3 green, 5 red',\n",
       "  '15 red, 1 blue, 3 green'],\n",
       " 'Game 71': ['7 red, 9 green',\n",
       "  '4 blue, 9 green, 7 red',\n",
       "  '4 blue, 2 green',\n",
       "  '6 blue, 2 red, 9 green'],\n",
       " 'Game 72': ['14 blue, 1 green',\n",
       "  '4 red, 1 green, 9 blue',\n",
       "  '6 blue, 8 red, 2 green'],\n",
       " 'Game 73': ['17 green',\n",
       "  '10 blue, 2 red, 9 green',\n",
       "  '1 green, 10 blue, 2 red',\n",
       "  '8 blue, 1 red',\n",
       "  '5 blue, 16 green'],\n",
       " 'Game 74': ['12 green, 6 red, 5 blue',\n",
       "  '2 red, 4 blue, 10 green',\n",
       "  '3 green, 4 blue, 2 red',\n",
       "  '8 green, 2 red, 5 blue',\n",
       "  '5 red, 2 blue, 2 green',\n",
       "  '6 green, 1 red, 1 blue'],\n",
       " 'Game 75': ['4 blue, 19 green',\n",
       "  '15 blue, 7 green',\n",
       "  '18 blue, 5 green, 7 red',\n",
       "  '16 green, 15 blue',\n",
       "  '7 red, 4 green, 13 blue',\n",
       "  '9 green, 13 blue'],\n",
       " 'Game 76': ['1 red, 2 green, 7 blue',\n",
       "  '13 blue, 7 green, 1 red',\n",
       "  '13 blue, 5 red'],\n",
       " 'Game 77': ['3 red, 10 blue, 6 green',\n",
       "  '1 green, 2 red, 10 blue',\n",
       "  '7 green, 1 red'],\n",
       " 'Game 78': ['11 green, 2 blue',\n",
       "  '6 blue, 8 red, 5 green',\n",
       "  '10 red, 6 green, 4 blue',\n",
       "  '6 blue, 3 green, 10 red',\n",
       "  '5 green, 6 red'],\n",
       " 'Game 79': ['4 red, 6 blue, 1 green',\n",
       "  '1 red',\n",
       "  '2 green, 3 blue, 4 red',\n",
       "  '4 red, 1 green, 2 blue',\n",
       "  '2 green, 1 red'],\n",
       " 'Game 80': ['2 red, 1 green',\n",
       "  '1 red, 1 green',\n",
       "  '7 red, 1 green',\n",
       "  '1 blue, 7 red, 3 green'],\n",
       " 'Game 81': ['1 blue, 15 red, 4 green',\n",
       "  '2 green, 12 red',\n",
       "  '4 green, 13 red',\n",
       "  '1 blue, 3 green, 13 red',\n",
       "  '12 red, 2 green, 1 blue',\n",
       "  '3 green, 8 red, 1 blue'],\n",
       " 'Game 82': ['18 red, 4 green, 1 blue',\n",
       "  '14 red, 1 green, 2 blue',\n",
       "  '10 red, 2 blue, 7 green',\n",
       "  '13 red',\n",
       "  '3 red, 7 green, 1 blue',\n",
       "  '5 red, 4 green'],\n",
       " 'Game 83': ['4 red, 10 green, 5 blue',\n",
       "  '2 red, 12 blue, 13 green',\n",
       "  '19 blue, 9 green, 1 red',\n",
       "  '2 red, 14 blue, 3 green',\n",
       "  '13 green, 8 blue, 5 red'],\n",
       " 'Game 84': ['12 blue, 7 red, 9 green',\n",
       "  '1 blue, 1 green, 14 red',\n",
       "  '1 green, 8 red, 11 blue',\n",
       "  '11 blue, 12 red, 3 green',\n",
       "  '11 blue, 8 green, 13 red',\n",
       "  '7 green, 7 red, 10 blue'],\n",
       " 'Game 85': ['10 red, 2 blue',\n",
       "  '11 green, 9 red, 4 blue',\n",
       "  '3 red, 5 blue, 13 green',\n",
       "  '5 red, 5 green',\n",
       "  '5 red, 2 blue, 4 green',\n",
       "  '11 green, 4 blue, 19 red'],\n",
       " 'Game 86': ['1 blue, 6 green, 2 red',\n",
       "  '1 red, 1 blue, 8 green',\n",
       "  '3 red, 1 blue, 4 green',\n",
       "  '1 green, 4 red',\n",
       "  '9 green, 2 red',\n",
       "  '6 green, 7 red, 1 blue'],\n",
       " 'Game 87': ['8 green, 8 blue, 4 red',\n",
       "  '5 red, 2 blue, 10 green',\n",
       "  '3 red, 13 green',\n",
       "  '1 red, 3 blue, 4 green'],\n",
       " 'Game 88': ['3 blue, 9 green, 3 red', '2 blue, 15 green', '2 red, 9 green'],\n",
       " 'Game 89': ['9 red, 6 green, 15 blue',\n",
       "  '10 blue, 7 red, 2 green',\n",
       "  '7 green, 16 blue, 4 red'],\n",
       " 'Game 90': ['1 red, 1 blue, 7 green',\n",
       "  '7 green, 1 blue, 8 red',\n",
       "  '3 red, 1 blue, 1 green'],\n",
       " 'Game 91': ['1 green, 2 red, 6 blue',\n",
       "  '4 green, 4 red, 3 blue',\n",
       "  '4 red, 11 green, 4 blue',\n",
       "  '3 blue, 5 red',\n",
       "  '8 green, 2 red, 8 blue'],\n",
       " 'Game 92': ['2 red, 3 blue', '3 blue, 2 green, 2 red', '9 red, 3 green'],\n",
       " 'Game 93': ['2 blue, 5 green',\n",
       "  '2 green, 5 blue, 3 red',\n",
       "  '2 green, 5 blue, 1 red',\n",
       "  '7 blue, 4 red, 9 green'],\n",
       " 'Game 94': ['1 red, 9 blue, 14 green',\n",
       "  '6 green',\n",
       "  '2 blue, 11 green',\n",
       "  '4 blue, 16 green, 1 red'],\n",
       " 'Game 95': ['10 green, 2 blue, 7 red',\n",
       "  '4 blue, 4 red, 6 green',\n",
       "  '3 red, 2 blue, 3 green'],\n",
       " 'Game 96': ['12 red',\n",
       "  '3 green, 10 red',\n",
       "  '6 blue, 14 red, 2 green',\n",
       "  '7 green, 15 red',\n",
       "  '3 green, 3 red, 1 blue',\n",
       "  '5 blue, 1 red'],\n",
       " 'Game 97': ['3 red, 1 green, 1 blue', '1 green, 3 red', '4 red, 1 green'],\n",
       " 'Game 98': ['4 red, 5 green, 6 blue',\n",
       "  '2 red, 9 green, 6 blue',\n",
       "  '2 blue, 11 red, 14 green',\n",
       "  '6 green, 4 blue',\n",
       "  '11 blue, 11 red, 8 green'],\n",
       " 'Game 99': ['2 green, 20 blue',\n",
       "  '12 blue',\n",
       "  '3 red, 12 blue',\n",
       "  '7 blue',\n",
       "  '3 green, 10 blue, 2 red',\n",
       "  '3 red, 2 green'],\n",
       " 'Game 100': ['2 blue, 8 green, 12 red',\n",
       "  '2 green, 13 red',\n",
       "  '2 red, 4 green',\n",
       "  '2 green, 7 red',\n",
       "  '10 green, 5 red, 1 blue']}"
      ]
     },
     "execution_count": 65,
     "metadata": {},
     "output_type": "execute_result"
    }
   ],
   "source": [
    "d"
   ]
  },
  {
   "cell_type": "code",
   "execution_count": 70,
   "id": "832c41ab",
   "metadata": {
    "hidden": true
   },
   "outputs": [
    {
     "data": {
      "text/plain": [
       "3"
      ]
     },
     "execution_count": 70,
     "metadata": {},
     "output_type": "execute_result"
    }
   ],
   "source": [
    "len(d['Game 2'])"
   ]
  },
  {
   "cell_type": "code",
   "execution_count": 1,
   "id": "b97b428b",
   "metadata": {
    "hidden": true
   },
   "outputs": [
    {
     "ename": "NameError",
     "evalue": "name 'd' is not defined",
     "output_type": "error",
     "traceback": [
      "\u001b[1;31m---------------------------------------------------------------------------\u001b[0m",
      "\u001b[1;31mNameError\u001b[0m                                 Traceback (most recent call last)",
      "\u001b[1;32m~\\AppData\\Local\\Temp\\ipykernel_13668\\2341010419.py\u001b[0m in \u001b[0;36m<cell line: 4>\u001b[1;34m()\u001b[0m\n\u001b[0;32m      2\u001b[0m \u001b[0mkey_nums\u001b[0m \u001b[1;33m=\u001b[0m \u001b[1;33m[\u001b[0m\u001b[1;33m]\u001b[0m\u001b[1;33m\u001b[0m\u001b[1;33m\u001b[0m\u001b[0m\n\u001b[0;32m      3\u001b[0m \u001b[1;33m\u001b[0m\u001b[0m\n\u001b[1;32m----> 4\u001b[1;33m \u001b[1;32mfor\u001b[0m \u001b[0mgame\u001b[0m\u001b[1;33m,\u001b[0m \u001b[0mdata\u001b[0m \u001b[1;32min\u001b[0m \u001b[0md\u001b[0m\u001b[1;33m.\u001b[0m\u001b[0mitems\u001b[0m\u001b[1;33m(\u001b[0m\u001b[1;33m)\u001b[0m\u001b[1;33m:\u001b[0m\u001b[1;33m\u001b[0m\u001b[1;33m\u001b[0m\u001b[0m\n\u001b[0m\u001b[0;32m      5\u001b[0m     \u001b[1;32mfor\u001b[0m \u001b[0mentry\u001b[0m \u001b[1;32min\u001b[0m \u001b[0mdata\u001b[0m\u001b[1;33m:\u001b[0m\u001b[1;33m\u001b[0m\u001b[1;33m\u001b[0m\u001b[0m\n\u001b[0;32m      6\u001b[0m         \u001b[0mprint\u001b[0m\u001b[1;33m(\u001b[0m\u001b[1;33m[\u001b[0m\u001b[0mcount\u001b[0m\u001b[1;33m]\u001b[0m \u001b[1;32mfor\u001b[0m \u001b[0mcount\u001b[0m \u001b[1;32min\u001b[0m \u001b[0mentry\u001b[0m\u001b[1;33m)\u001b[0m\u001b[1;33m\u001b[0m\u001b[1;33m\u001b[0m\u001b[0m\n",
      "\u001b[1;31mNameError\u001b[0m: name 'd' is not defined"
     ]
    }
   ],
   "source": [
    "game_nums = {}\n",
    "key_nums = []\n",
    "\n",
    "for game, data in d.items():    \n",
    "    for entry in data:\n",
    "        print([count] for count in entry)\n",
    "#         blue_count = 0\n",
    "#         red_count = 0\n",
    "#         green_count = 0\n",
    "\n",
    "\n",
    "# ???#         blue_count += counts.get('blue', 0)\n",
    "#         red_count += counts.get('red', 0)\n",
    "#         green_count += counts.get('green', 0)\n",
    "\n",
    "#         if total_blue_count > 14 or total_red_count > 12 or total_green_count > 13:\n",
    "#             break\n",
    "\n",
    "#     else:\n",
    "#         game_nums[game] = data\n",
    "#         key_nums.append(game)\n"
   ]
  },
  {
   "cell_type": "markdown",
   "id": "824f3dfe",
   "metadata": {
    "heading_collapsed": true
   },
   "source": [
    "## TBD"
   ]
  },
  {
   "cell_type": "markdown",
   "id": "b9b705f1",
   "metadata": {
    "hidden": true
   },
   "source": [
    "### Day 3"
   ]
  },
  {
   "cell_type": "code",
   "execution_count": null,
   "id": "5a2198cb",
   "metadata": {
    "hidden": true
   },
   "outputs": [],
   "source": []
  },
  {
   "cell_type": "markdown",
   "id": "9472f56d",
   "metadata": {
    "hidden": true
   },
   "source": [
    "### Day 4"
   ]
  },
  {
   "cell_type": "code",
   "execution_count": null,
   "id": "1326baae",
   "metadata": {
    "hidden": true
   },
   "outputs": [],
   "source": []
  },
  {
   "cell_type": "markdown",
   "id": "0385d512",
   "metadata": {
    "hidden": true
   },
   "source": [
    "### Day 5"
   ]
  },
  {
   "cell_type": "code",
   "execution_count": null,
   "id": "ed70d376",
   "metadata": {
    "hidden": true
   },
   "outputs": [],
   "source": []
  },
  {
   "cell_type": "markdown",
   "id": "0132a2f5",
   "metadata": {
    "hidden": true
   },
   "source": [
    "### Day 6"
   ]
  },
  {
   "cell_type": "code",
   "execution_count": null,
   "id": "65baa7bf",
   "metadata": {
    "hidden": true
   },
   "outputs": [],
   "source": []
  },
  {
   "cell_type": "markdown",
   "id": "bf975c13",
   "metadata": {
    "hidden": true
   },
   "source": [
    "### Day 7"
   ]
  },
  {
   "cell_type": "code",
   "execution_count": null,
   "id": "1712baf3",
   "metadata": {
    "hidden": true
   },
   "outputs": [],
   "source": []
  }
 ],
 "metadata": {
  "kernelspec": {
   "display_name": "Python 3 (ipykernel)",
   "language": "python",
   "name": "python3"
  },
  "language_info": {
   "codemirror_mode": {
    "name": "ipython",
    "version": 3
   },
   "file_extension": ".py",
   "mimetype": "text/x-python",
   "name": "python",
   "nbconvert_exporter": "python",
   "pygments_lexer": "ipython3",
   "version": "3.9.16"
  }
 },
 "nbformat": 4,
 "nbformat_minor": 5
}
